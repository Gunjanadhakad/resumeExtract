{
 "cells": [
  {
   "cell_type": "code",
   "execution_count": 1,
   "id": "c7701b05",
   "metadata": {
    "_cell_guid": "b1076dfc-b9ad-4769-8c92-a6c4dae69d19",
    "_uuid": "8f2839f25d086af736a60e9eeb907d3b93b6e0e5",
    "execution": {
     "iopub.execute_input": "2023-07-09T14:02:00.714498Z",
     "iopub.status.busy": "2023-07-09T14:02:00.713954Z",
     "iopub.status.idle": "2023-07-09T14:02:00.744058Z",
     "shell.execute_reply": "2023-07-09T14:02:00.743122Z"
    },
    "papermill": {
     "duration": 0.040113,
     "end_time": "2023-07-09T14:02:00.745970",
     "exception": false,
     "start_time": "2023-07-09T14:02:00.705857",
     "status": "completed"
    },
    "tags": []
   },
   "outputs": [
    {
     "name": "stdout",
     "output_type": "stream",
     "text": [
      "/kaggle/input/newnewresume/Untitled document (2).pdf\n",
      "/kaggle/input/resume/Gunjan Resume.pdf\n",
      "/kaggle/input/resumenew/Untitled document (1).pdf\n",
      "/kaggle/input/resume2/Untitled document.docx\n",
      "/kaggle/input/resume3/Untitled document.pdf\n"
     ]
    }
   ],
   "source": [
    "# This Python 3 environment comes with many helpful analytics libraries installed\n",
    "# It is defined by the kaggle/python Docker image: https://github.com/kaggle/docker-python\n",
    "# For example, here's several helpful packages to load\n",
    "\n",
    "import numpy as np # linear algebra\n",
    "import pandas as pd # data processing, CSV file I/O (e.g. pd.read_csv)\n",
    "\n",
    "# Input data files are available in the read-only \"../input/\" directory\n",
    "# For example, running this (by clicking run or pressing Shift+Enter) will list all files under the input directory\n",
    "\n",
    "import os\n",
    "for dirname, _, filenames in os.walk('/kaggle/input'):\n",
    "    for filename in filenames:\n",
    "        print(os.path.join(dirname, filename))\n",
    "\n",
    "# You can write up to 20GB to the current directory (/kaggle/working/) that gets preserved as output when you create a version using \"Save & Run All\" \n",
    "# You can also write temporary files to /kaggle/temp/, but they won't be saved outside of the current session"
   ]
  },
  {
   "cell_type": "code",
   "execution_count": 2,
   "id": "8ee1405b",
   "metadata": {
    "execution": {
     "iopub.execute_input": "2023-07-09T14:02:00.759234Z",
     "iopub.status.busy": "2023-07-09T14:02:00.758053Z",
     "iopub.status.idle": "2023-07-09T14:02:26.128225Z",
     "shell.execute_reply": "2023-07-09T14:02:26.126433Z"
    },
    "papermill": {
     "duration": 25.379735,
     "end_time": "2023-07-09T14:02:26.131299",
     "exception": false,
     "start_time": "2023-07-09T14:02:00.751564",
     "status": "completed"
    },
    "tags": []
   },
   "outputs": [
    {
     "name": "stdout",
     "output_type": "stream",
     "text": [
      "Collecting pdfminer.six\r\n",
      "  Downloading pdfminer.six-20221105-py3-none-any.whl (5.6 MB)\r\n",
      "\u001b[2K     \u001b[90m━━━━━━━━━━━━━━━━━━━━━━━━━━━━━━━━━━━━━━━━\u001b[0m \u001b[32m5.6/5.6 MB\u001b[0m \u001b[31m42.9 MB/s\u001b[0m eta \u001b[36m0:00:00\u001b[0m\r\n",
      "\u001b[?25hRequirement already satisfied: charset-normalizer>=2.0.0 in /opt/conda/lib/python3.10/site-packages (from pdfminer.six) (2.1.1)\r\n",
      "Requirement already satisfied: cryptography>=36.0.0 in /opt/conda/lib/python3.10/site-packages (from pdfminer.six) (40.0.2)\r\n",
      "Requirement already satisfied: cffi>=1.12 in /opt/conda/lib/python3.10/site-packages (from cryptography>=36.0.0->pdfminer.six) (1.15.1)\r\n",
      "Requirement already satisfied: pycparser in /opt/conda/lib/python3.10/site-packages (from cffi>=1.12->cryptography>=36.0.0->pdfminer.six) (2.21)\r\n",
      "Installing collected packages: pdfminer.six\r\n",
      "Successfully installed pdfminer.six-20221105\r\n",
      "\u001b[33mWARNING: Running pip as the 'root' user can result in broken permissions and conflicting behaviour with the system package manager. It is recommended to use a virtual environment instead: https://pip.pypa.io/warnings/venv\u001b[0m\u001b[33m\r\n",
      "\u001b[0mRequirement already satisfied: nltk in /opt/conda/lib/python3.10/site-packages (3.2.4)\r\n",
      "Requirement already satisfied: six in /opt/conda/lib/python3.10/site-packages (from nltk) (1.16.0)\r\n",
      "\u001b[33mWARNING: Running pip as the 'root' user can result in broken permissions and conflicting behaviour with the system package manager. It is recommended to use a virtual environment instead: https://pip.pypa.io/warnings/venv\u001b[0m\u001b[33m\r\n",
      "\u001b[0m[nltk_data] Downloading package punkt to /usr/share/nltk_data...\n",
      "[nltk_data]   Package punkt is already up-to-date!\n",
      "[nltk_data] Downloading package averaged_perceptron_tagger to\n",
      "[nltk_data]     /usr/share/nltk_data...\n",
      "[nltk_data]   Package averaged_perceptron_tagger is already up-to-\n",
      "[nltk_data]       date!\n",
      "[nltk_data] Downloading package maxent_ne_chunker to\n",
      "[nltk_data]     /usr/share/nltk_data...\n",
      "[nltk_data]   Package maxent_ne_chunker is already up-to-date!\n",
      "[nltk_data] Downloading package words to /usr/share/nltk_data...\n",
      "[nltk_data]   Package words is already up-to-date!\n"
     ]
    },
    {
     "data": {
      "text/plain": [
       "True"
      ]
     },
     "execution_count": 2,
     "metadata": {},
     "output_type": "execute_result"
    }
   ],
   "source": [
    "!pip install pdfminer.six\n",
    "!pip install nltk\n",
    "\n",
    "import nltk\n",
    "nltk.download('punkt')\n",
    "nltk.download('averaged_perceptron_tagger')\n",
    "nltk.download('maxent_ne_chunker')\n",
    "nltk.download('words')"
   ]
  },
  {
   "cell_type": "code",
   "execution_count": 3,
   "id": "d3c6f487",
   "metadata": {
    "execution": {
     "iopub.execute_input": "2023-07-09T14:02:26.147967Z",
     "iopub.status.busy": "2023-07-09T14:02:26.147571Z",
     "iopub.status.idle": "2023-07-09T14:02:26.189251Z",
     "shell.execute_reply": "2023-07-09T14:02:26.187535Z"
    },
    "papermill": {
     "duration": 0.053312,
     "end_time": "2023-07-09T14:02:26.191559",
     "exception": false,
     "start_time": "2023-07-09T14:02:26.138247",
     "status": "completed"
    },
    "tags": []
   },
   "outputs": [
    {
     "name": "stdout",
     "output_type": "stream",
     "text": [
      "[nltk_data] Downloading package stopwords to /usr/share/nltk_data...\n",
      "[nltk_data]   Package stopwords is already up-to-date!\n"
     ]
    },
    {
     "data": {
      "text/plain": [
       "True"
      ]
     },
     "execution_count": 3,
     "metadata": {},
     "output_type": "execute_result"
    }
   ],
   "source": [
    "from pdfminer.high_level import extract_text\n",
    "import nltk\n",
    "import re\n",
    "import subprocess\n",
    "nltk.download('stopwords')"
   ]
  },
  {
   "cell_type": "code",
   "execution_count": 4,
   "id": "97afcf57",
   "metadata": {
    "execution": {
     "iopub.execute_input": "2023-07-09T14:02:26.212036Z",
     "iopub.status.busy": "2023-07-09T14:02:26.211626Z",
     "iopub.status.idle": "2023-07-09T14:02:26.217943Z",
     "shell.execute_reply": "2023-07-09T14:02:26.216584Z"
    },
    "papermill": {
     "duration": 0.02015,
     "end_time": "2023-07-09T14:02:26.221474",
     "exception": false,
     "start_time": "2023-07-09T14:02:26.201324",
     "status": "completed"
    },
    "tags": []
   },
   "outputs": [],
   "source": [
    "import json"
   ]
  },
  {
   "cell_type": "markdown",
   "id": "efe97c0e",
   "metadata": {
    "papermill": {
     "duration": 0.00621,
     "end_time": "2023-07-09T14:02:26.235032",
     "exception": false,
     "start_time": "2023-07-09T14:02:26.228822",
     "status": "completed"
    },
    "tags": []
   },
   "source": [
    "**name**"
   ]
  },
  {
   "cell_type": "code",
   "execution_count": 5,
   "id": "1a6ff0f1",
   "metadata": {
    "execution": {
     "iopub.execute_input": "2023-07-09T14:02:26.251118Z",
     "iopub.status.busy": "2023-07-09T14:02:26.250700Z",
     "iopub.status.idle": "2023-07-09T14:02:26.441119Z",
     "shell.execute_reply": "2023-07-09T14:02:26.439670Z"
    },
    "papermill": {
     "duration": 0.202049,
     "end_time": "2023-07-09T14:02:26.443956",
     "exception": false,
     "start_time": "2023-07-09T14:02:26.241907",
     "status": "completed"
    },
    "tags": []
   },
   "outputs": [],
   "source": [
    "def extract_text_from_pdf(pdf_path):\n",
    "    text = extract_text(pdf_path)\n",
    "    return text\n",
    "\n",
    "txt = extract_text_from_pdf(\"/kaggle/input/newnewresume/Untitled document (2).pdf\")"
   ]
  },
  {
   "cell_type": "code",
   "execution_count": 6,
   "id": "81934ebf",
   "metadata": {
    "execution": {
     "iopub.execute_input": "2023-07-09T14:02:26.459465Z",
     "iopub.status.busy": "2023-07-09T14:02:26.459034Z",
     "iopub.status.idle": "2023-07-09T14:02:26.466018Z",
     "shell.execute_reply": "2023-07-09T14:02:26.464382Z"
    },
    "papermill": {
     "duration": 0.01786,
     "end_time": "2023-07-09T14:02:26.468750",
     "exception": false,
     "start_time": "2023-07-09T14:02:26.450890",
     "status": "completed"
    },
    "tags": []
   },
   "outputs": [
    {
     "name": "stdout",
     "output_type": "stream",
     "text": [
      "Resume\n",
      "\n",
      "Name: Gunjana Dhakad\n",
      "Education:\n",
      "\n",
      "● B.Tech, Electrical Engineering, Indian Institute of Technology Kharagpur\n",
      "● Class XII, CBSE, Kota Disha Delphi Public School, 2021\n",
      "● Class X, CBSE, BSN Academy, Kota, 2019\n",
      "\n",
      "Contact Information\n",
      "\n",
      "● Phone No: 4373932863\n",
      "● Email Id:abc@gmail.com\n",
      "\n",
      "Skills:\n",
      "\n",
      "● Programming Languages: Python, C++, C, HTML, CSS, SQL, Javascript\n",
      "●\n",
      "\n",
      "Frameworks and Libraries: Numpy, LTspice, Pandas, Matplotlib, Tensorflow,\n",
      "Scikit-Learn, Pytorch, MATLAB & Simulink, Seaborn\n",
      "\n",
      "● Practical: Electric Machines, Measurements, Digital Circuits ,Signals and System,\n",
      "\n",
      "Chemistry, Programming\n",
      "\n",
      "Experience:\n",
      "\n",
      "● Smart AI, Intern, 2024: Worked on developing AI models for image recognition tasks.\n",
      "● Stellar Data, Data Analyst, 2023-2024: Analysed large datasets and provided insights\n",
      "\n",
      "for business decisions.\n",
      "\n",
      "● Space Challenge, Team Lead, 2022-2023: Led a team in a space-themed hackathon,\n",
      "\n",
      "developing innovative solutions using Python and Arduino.\n",
      "\n",
      "Achievements:\n",
      "\n",
      "● First Place, Science Olympiad, 2021: Demonstrated exceptional knowledge in\n",
      "\n",
      "various scientific disciplines.\n",
      "\n",
      "COURSEWORK INFORMATION\n",
      "\n",
      "● Machine Learning and its Foundations\n",
      "● Signals and System\n",
      "● Applied Statistics and Mathematics in AI\n",
      "● Digital and Analog Electronics\n",
      "● Programming and Data structures\n",
      "● Data communication & Network Theory\n",
      "\n",
      "EXTRA CURRICULAR ACTIVITIES\n",
      "\n",
      "● Represented MT hall in General Championship 2023 in Cartooning domain within IIT\n",
      "\n",
      "Kharagpur student community.\n",
      "\n",
      "● Participated in various Vocals competitions at school and college level.\n",
      "● Participated in various business competitions and Case-studies\n",
      "\n",
      "\f",
      "\n"
     ]
    }
   ],
   "source": [
    "print(txt)"
   ]
  },
  {
   "cell_type": "code",
   "execution_count": 7,
   "id": "07154d21",
   "metadata": {
    "execution": {
     "iopub.execute_input": "2023-07-09T14:02:26.485738Z",
     "iopub.status.busy": "2023-07-09T14:02:26.483913Z",
     "iopub.status.idle": "2023-07-09T14:02:26.491451Z",
     "shell.execute_reply": "2023-07-09T14:02:26.490677Z"
    },
    "papermill": {
     "duration": 0.017749,
     "end_time": "2023-07-09T14:02:26.493635",
     "exception": false,
     "start_time": "2023-07-09T14:02:26.475886",
     "status": "completed"
    },
    "tags": []
   },
   "outputs": [],
   "source": [
    "def extract_names(txt):\n",
    "    person_names = []\n",
    "\n",
    "    for sent in nltk.sent_tokenize(txt):\n",
    "        for chunk in nltk.ne_chunk(nltk.pos_tag(nltk.word_tokenize(sent))):\n",
    "            if hasattr(chunk, 'label') and chunk.label() == 'PERSON':\n",
    "                person_names.append(\n",
    "                    ' '.join(chunk_leave[0] for chunk_leave in chunk.leaves())\n",
    "                )\n",
    "\n",
    "    return person_names"
   ]
  },
  {
   "cell_type": "code",
   "execution_count": 8,
   "id": "7c88f84b",
   "metadata": {
    "execution": {
     "iopub.execute_input": "2023-07-09T14:02:26.508864Z",
     "iopub.status.busy": "2023-07-09T14:02:26.508127Z",
     "iopub.status.idle": "2023-07-09T14:02:26.841566Z",
     "shell.execute_reply": "2023-07-09T14:02:26.840435Z"
    },
    "papermill": {
     "duration": 0.343204,
     "end_time": "2023-07-09T14:02:26.843709",
     "exception": false,
     "start_time": "2023-07-09T14:02:26.500505",
     "status": "completed"
    },
    "tags": []
   },
   "outputs": [],
   "source": [
    "\n",
    "names = extract_names(txt)"
   ]
  },
  {
   "cell_type": "code",
   "execution_count": 9,
   "id": "f89aaf87",
   "metadata": {
    "execution": {
     "iopub.execute_input": "2023-07-09T14:02:26.859128Z",
     "iopub.status.busy": "2023-07-09T14:02:26.858787Z",
     "iopub.status.idle": "2023-07-09T14:02:26.866092Z",
     "shell.execute_reply": "2023-07-09T14:02:26.864963Z"
    },
    "papermill": {
     "duration": 0.017636,
     "end_time": "2023-07-09T14:02:26.868211",
     "exception": false,
     "start_time": "2023-07-09T14:02:26.850575",
     "status": "completed"
    },
    "tags": []
   },
   "outputs": [
    {
     "data": {
      "text/plain": [
       "['Gunjana Dhakad',\n",
       " 'Kota Disha Delphi Public School',\n",
       " 'Email Id',\n",
       " 'Python',\n",
       " 'Javascript',\n",
       " 'Numpy',\n",
       " 'Pandas',\n",
       " 'Matplotlib',\n",
       " 'Pytorch',\n",
       " 'Simulink',\n",
       " 'Seaborn',\n",
       " 'Signals',\n",
       " 'Smart AI',\n",
       " 'Stellar Data',\n",
       " 'Data Analyst',\n",
       " 'Space Challenge',\n",
       " 'Team Lead',\n",
       " 'Python',\n",
       " 'Arduino',\n",
       " 'Science Olympiad',\n",
       " 'Machine Learning',\n",
       " 'Signals',\n",
       " 'System',\n",
       " 'Analog Electronics',\n",
       " 'Network Theory']"
      ]
     },
     "execution_count": 9,
     "metadata": {},
     "output_type": "execute_result"
    }
   ],
   "source": [
    "names"
   ]
  },
  {
   "cell_type": "code",
   "execution_count": 10,
   "id": "987a043e",
   "metadata": {
    "execution": {
     "iopub.execute_input": "2023-07-09T14:02:26.883513Z",
     "iopub.status.busy": "2023-07-09T14:02:26.883016Z",
     "iopub.status.idle": "2023-07-09T14:02:26.889274Z",
     "shell.execute_reply": "2023-07-09T14:02:26.887754Z"
    },
    "papermill": {
     "duration": 0.016725,
     "end_time": "2023-07-09T14:02:26.891581",
     "exception": false,
     "start_time": "2023-07-09T14:02:26.874856",
     "status": "completed"
    },
    "tags": []
   },
   "outputs": [],
   "source": [
    "name_candidate=names[0]"
   ]
  },
  {
   "cell_type": "code",
   "execution_count": 11,
   "id": "0551cd97",
   "metadata": {
    "execution": {
     "iopub.execute_input": "2023-07-09T14:02:26.908519Z",
     "iopub.status.busy": "2023-07-09T14:02:26.908060Z",
     "iopub.status.idle": "2023-07-09T14:02:26.915795Z",
     "shell.execute_reply": "2023-07-09T14:02:26.913594Z"
    },
    "papermill": {
     "duration": 0.019482,
     "end_time": "2023-07-09T14:02:26.918815",
     "exception": false,
     "start_time": "2023-07-09T14:02:26.899333",
     "status": "completed"
    },
    "tags": []
   },
   "outputs": [
    {
     "name": "stdout",
     "output_type": "stream",
     "text": [
      "Gunjana Dhakad\n"
     ]
    }
   ],
   "source": [
    "print(name_candidate)"
   ]
  },
  {
   "cell_type": "markdown",
   "id": "d2c4f56b",
   "metadata": {
    "papermill": {
     "duration": 0.006814,
     "end_time": "2023-07-09T14:02:26.933392",
     "exception": false,
     "start_time": "2023-07-09T14:02:26.926578",
     "status": "completed"
    },
    "tags": []
   },
   "source": [
    "**Phone number**"
   ]
  },
  {
   "cell_type": "code",
   "execution_count": 12,
   "id": "142201ef",
   "metadata": {
    "execution": {
     "iopub.execute_input": "2023-07-09T14:02:26.950560Z",
     "iopub.status.busy": "2023-07-09T14:02:26.950196Z",
     "iopub.status.idle": "2023-07-09T14:02:26.958938Z",
     "shell.execute_reply": "2023-07-09T14:02:26.955552Z"
    },
    "papermill": {
     "duration": 0.01987,
     "end_time": "2023-07-09T14:02:26.961646",
     "exception": false,
     "start_time": "2023-07-09T14:02:26.941776",
     "status": "completed"
    },
    "tags": []
   },
   "outputs": [],
   "source": [
    "PHONE_REG_IND = re.compile(r'[\\+\\(]?[1-9][0-9 .\\-\\(\\)]{8,}[0-9]')\n",
    "\n",
    "PHONE_REG_USA = re.compile(r'/^\\(?(\\d{3})\\)?[-]?(\\d{3})[-]?(\\d{4})$/')"
   ]
  },
  {
   "cell_type": "code",
   "execution_count": 13,
   "id": "9991cba0",
   "metadata": {
    "execution": {
     "iopub.execute_input": "2023-07-09T14:02:26.978040Z",
     "iopub.status.busy": "2023-07-09T14:02:26.977642Z",
     "iopub.status.idle": "2023-07-09T14:02:26.987217Z",
     "shell.execute_reply": "2023-07-09T14:02:26.984992Z"
    },
    "papermill": {
     "duration": 0.022158,
     "end_time": "2023-07-09T14:02:26.991081",
     "exception": false,
     "start_time": "2023-07-09T14:02:26.968923",
     "status": "completed"
    },
    "tags": []
   },
   "outputs": [
    {
     "name": "stdout",
     "output_type": "stream",
     "text": [
      "4373932863\n"
     ]
    }
   ],
   "source": [
    "def extract_phone_number(resume_text):\n",
    "    phone = re.findall(PHONE_REG_IND, resume_text)\n",
    "\n",
    "    if phone:\n",
    "        number = ''.join(phone[0])\n",
    "\n",
    "        if resume_text.find(number) >= 0 and len(number) < 16:\n",
    "            return number\n",
    "    return None\n",
    " \n",
    "phone_number_ind = extract_phone_number(txt)\n",
    "print(phone_number_ind)"
   ]
  },
  {
   "cell_type": "code",
   "execution_count": 14,
   "id": "cb12ac47",
   "metadata": {
    "execution": {
     "iopub.execute_input": "2023-07-09T14:02:27.008925Z",
     "iopub.status.busy": "2023-07-09T14:02:27.008488Z",
     "iopub.status.idle": "2023-07-09T14:02:27.015982Z",
     "shell.execute_reply": "2023-07-09T14:02:27.014529Z"
    },
    "papermill": {
     "duration": 0.019367,
     "end_time": "2023-07-09T14:02:27.018526",
     "exception": false,
     "start_time": "2023-07-09T14:02:26.999159",
     "status": "completed"
    },
    "tags": []
   },
   "outputs": [
    {
     "name": "stdout",
     "output_type": "stream",
     "text": [
      "None\n"
     ]
    }
   ],
   "source": [
    "def extract_phone_number(resume_text):\n",
    "    phone = re.findall(PHONE_REG_USA, resume_text)\n",
    "\n",
    "    if phone:\n",
    "        if resume_text.find(phone) >= 0:\n",
    "            return phone\n",
    "    return None\n",
    " \n",
    "phone_number_usa = extract_phone_number(txt)\n",
    "print(phone_number_usa)"
   ]
  },
  {
   "cell_type": "markdown",
   "id": "4b289598",
   "metadata": {
    "papermill": {
     "duration": 0.007526,
     "end_time": "2023-07-09T14:02:27.033761",
     "exception": false,
     "start_time": "2023-07-09T14:02:27.026235",
     "status": "completed"
    },
    "tags": []
   },
   "source": [
    "**Email ID**"
   ]
  },
  {
   "cell_type": "code",
   "execution_count": 15,
   "id": "3ff97423",
   "metadata": {
    "execution": {
     "iopub.execute_input": "2023-07-09T14:02:27.050725Z",
     "iopub.status.busy": "2023-07-09T14:02:27.050339Z",
     "iopub.status.idle": "2023-07-09T14:02:27.055787Z",
     "shell.execute_reply": "2023-07-09T14:02:27.054450Z"
    },
    "papermill": {
     "duration": 0.017064,
     "end_time": "2023-07-09T14:02:27.058864",
     "exception": false,
     "start_time": "2023-07-09T14:02:27.041800",
     "status": "completed"
    },
    "tags": []
   },
   "outputs": [],
   "source": [
    "EMAIL_REG = re.compile(r'[a-z0-9\\.\\-+_]+@[a-z0-9\\.\\-+_]+\\.[a-z]+')"
   ]
  },
  {
   "cell_type": "code",
   "execution_count": 16,
   "id": "170117e3",
   "metadata": {
    "execution": {
     "iopub.execute_input": "2023-07-09T14:02:27.075425Z",
     "iopub.status.busy": "2023-07-09T14:02:27.074979Z",
     "iopub.status.idle": "2023-07-09T14:02:27.081581Z",
     "shell.execute_reply": "2023-07-09T14:02:27.079702Z"
    },
    "papermill": {
     "duration": 0.018002,
     "end_time": "2023-07-09T14:02:27.084398",
     "exception": false,
     "start_time": "2023-07-09T14:02:27.066396",
     "status": "completed"
    },
    "tags": []
   },
   "outputs": [],
   "source": [
    "def extract_emails(resume_text):\n",
    "    return re.findall(EMAIL_REG, resume_text)"
   ]
  },
  {
   "cell_type": "code",
   "execution_count": 17,
   "id": "b12440af",
   "metadata": {
    "execution": {
     "iopub.execute_input": "2023-07-09T14:02:27.101274Z",
     "iopub.status.busy": "2023-07-09T14:02:27.100743Z",
     "iopub.status.idle": "2023-07-09T14:02:27.108734Z",
     "shell.execute_reply": "2023-07-09T14:02:27.106700Z"
    },
    "papermill": {
     "duration": 0.020316,
     "end_time": "2023-07-09T14:02:27.112052",
     "exception": false,
     "start_time": "2023-07-09T14:02:27.091736",
     "status": "completed"
    },
    "tags": []
   },
   "outputs": [
    {
     "name": "stdout",
     "output_type": "stream",
     "text": [
      "['abc@gmail.com']\n"
     ]
    }
   ],
   "source": [
    "emails = extract_emails(txt)\n",
    "\n",
    "if emails:\n",
    "    print(emails)\n",
    "    "
   ]
  },
  {
   "cell_type": "markdown",
   "id": "a1c3c00f",
   "metadata": {
    "papermill": {
     "duration": 0.006999,
     "end_time": "2023-07-09T14:02:27.126875",
     "exception": false,
     "start_time": "2023-07-09T14:02:27.119876",
     "status": "completed"
    },
    "tags": []
   },
   "source": [
    "**Info Dict**"
   ]
  },
  {
   "cell_type": "code",
   "execution_count": 18,
   "id": "167a546d",
   "metadata": {
    "execution": {
     "iopub.execute_input": "2023-07-09T14:02:27.144660Z",
     "iopub.status.busy": "2023-07-09T14:02:27.143552Z",
     "iopub.status.idle": "2023-07-09T14:02:27.151854Z",
     "shell.execute_reply": "2023-07-09T14:02:27.150078Z"
    },
    "papermill": {
     "duration": 0.019759,
     "end_time": "2023-07-09T14:02:27.153796",
     "exception": false,
     "start_time": "2023-07-09T14:02:27.134037",
     "status": "completed"
    },
    "tags": []
   },
   "outputs": [
    {
     "data": {
      "text/plain": [
       "{'Name': 'GUNJANA DHAKAD', 'email': ['abc@gmail.com'], 'contact': '4373932863'}"
      ]
     },
     "execution_count": 18,
     "metadata": {},
     "output_type": "execute_result"
    }
   ],
   "source": [
    "general_dict={ 'Name' : name_candidate.upper(),\n",
    "              'email' : emails ,\n",
    "              'contact' : phone_number_ind\n",
    "    \n",
    "}\n",
    "\n",
    "general_dict"
   ]
  },
  {
   "cell_type": "markdown",
   "id": "d9c004c2",
   "metadata": {
    "papermill": {
     "duration": 0.007054,
     "end_time": "2023-07-09T14:02:27.167981",
     "exception": false,
     "start_time": "2023-07-09T14:02:27.160927",
     "status": "completed"
    },
    "tags": []
   },
   "source": [
    "**skills**"
   ]
  },
  {
   "cell_type": "code",
   "execution_count": 19,
   "id": "281885d0",
   "metadata": {
    "execution": {
     "iopub.execute_input": "2023-07-09T14:02:27.184787Z",
     "iopub.status.busy": "2023-07-09T14:02:27.184382Z",
     "iopub.status.idle": "2023-07-09T14:02:27.189753Z",
     "shell.execute_reply": "2023-07-09T14:02:27.188757Z"
    },
    "papermill": {
     "duration": 0.016434,
     "end_time": "2023-07-09T14:02:27.191594",
     "exception": false,
     "start_time": "2023-07-09T14:02:27.175160",
     "status": "completed"
    },
    "tags": []
   },
   "outputs": [],
   "source": [
    "def extract_skills(txt):\n",
    "    pattern = r\"Skills:(.*?)Experience:\"\n",
    "    matches = re.search(pattern, txt, re.DOTALL)\n",
    "    \n",
    "    if matches:\n",
    "        skills_section = matches.group(1)\n",
    "        skills = re.findall(r\"\\b\\w+\\b\", skills_section)\n",
    "        return skills\n",
    "    \n",
    "    return []\n",
    "\n"
   ]
  },
  {
   "cell_type": "code",
   "execution_count": 20,
   "id": "c63a190d",
   "metadata": {
    "execution": {
     "iopub.execute_input": "2023-07-09T14:02:27.211180Z",
     "iopub.status.busy": "2023-07-09T14:02:27.210762Z",
     "iopub.status.idle": "2023-07-09T14:02:27.216721Z",
     "shell.execute_reply": "2023-07-09T14:02:27.215939Z"
    },
    "papermill": {
     "duration": 0.018764,
     "end_time": "2023-07-09T14:02:27.218799",
     "exception": false,
     "start_time": "2023-07-09T14:02:27.200035",
     "status": "completed"
    },
    "tags": []
   },
   "outputs": [
    {
     "name": "stdout",
     "output_type": "stream",
     "text": [
      "['Programming', 'Languages', 'Python', 'C', 'C', 'HTML', 'CSS', 'SQL', 'Javascript', 'Frameworks', 'and', 'Libraries', 'Numpy', 'LTspice', 'Pandas', 'Matplotlib', 'Tensorflow', 'Scikit', 'Learn', 'Pytorch', 'MATLAB', 'Simulink', 'Seaborn', 'Practical', 'Electric', 'Machines', 'Measurements', 'Digital', 'Circuits', 'Signals', 'and', 'System', 'Chemistry', 'Programming']\n"
     ]
    }
   ],
   "source": [
    "skills = extract_skills(txt)\n",
    "print(skills)"
   ]
  },
  {
   "cell_type": "code",
   "execution_count": null,
   "id": "894372b9",
   "metadata": {
    "papermill": {
     "duration": 0.007966,
     "end_time": "2023-07-09T14:02:27.234572",
     "exception": false,
     "start_time": "2023-07-09T14:02:27.226606",
     "status": "completed"
    },
    "tags": []
   },
   "outputs": [],
   "source": []
  }
 ],
 "metadata": {
  "kernelspec": {
   "display_name": "Python 3",
   "language": "python",
   "name": "python3"
  },
  "language_info": {
   "codemirror_mode": {
    "name": "ipython",
    "version": 3
   },
   "file_extension": ".py",
   "mimetype": "text/x-python",
   "name": "python",
   "nbconvert_exporter": "python",
   "pygments_lexer": "ipython3",
   "version": "3.10.10"
  },
  "papermill": {
   "default_parameters": {},
   "duration": 40.613842,
   "end_time": "2023-07-09T14:02:29.561344",
   "environment_variables": {},
   "exception": null,
   "input_path": "__notebook__.ipynb",
   "output_path": "__notebook__.ipynb",
   "parameters": {},
   "start_time": "2023-07-09T14:01:48.947502",
   "version": "2.4.0"
  }
 },
 "nbformat": 4,
 "nbformat_minor": 5
}
